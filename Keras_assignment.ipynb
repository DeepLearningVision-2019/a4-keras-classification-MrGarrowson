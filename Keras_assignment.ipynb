{
 "cells": [
  {
   "cell_type": "markdown",
   "metadata": {},
   "source": [
    "# Classify different data sets"
   ]
  },
  {
   "cell_type": "markdown",
   "metadata": {},
   "source": [
    "### Basic includes"
   ]
  },
  {
   "cell_type": "code",
   "execution_count": 2,
   "metadata": {},
   "outputs": [
    {
     "name": "stderr",
     "output_type": "stream",
     "text": [
      "Using TensorFlow backend.\n"
     ]
    }
   ],
   "source": [
    "# Using pandas to load the csv file\n",
    "import pandas as pd\n",
    "\n",
    "import numpy as np\n",
    "import matplotlib.pyplot as plt\n",
    "\n",
    "from keras import models \n",
    "from keras import layers \n",
    "from keras import callbacks\n",
    "from keras.utils import to_categorical\n",
    "\n",
    "# reuters and fashin mnist data set from keras\n",
    "from keras.datasets import reuters\n",
    "from keras.datasets import fashion_mnist\n",
    "\n",
    "# needed to preprocess text\n",
    "from keras.preprocessing.text import Tokenizer"
   ]
  },
  {
   "cell_type": "markdown",
   "metadata": {},
   "source": [
    "### Classify the Fashion Mnist\n",
    "\n",
    "---"
   ]
  },
  {
   "cell_type": "code",
   "execution_count": 2,
   "metadata": {},
   "outputs": [
    {
     "name": "stdout",
     "output_type": "stream",
     "text": [
      "Size of train inputs:  (60000, 28, 28)\n",
      "Size of test inputs:  (10000, 28, 28)\n",
      "Classify into  10  labels :  {0, 1, 2, 3, 4, 5, 6, 7, 8, 9}\n",
      "Labels: \n",
      "0 T-shirt/top\n",
      "1 Trouser\n",
      "2 Pullover\n",
      "3 Dress\n",
      "4 Coat\n",
      "5 Sandal\n",
      "6 Shirt\n",
      "7 Sneaker\n",
      "8 Bag\n",
      "9 Ankle boot \n"
     ]
    },
    {
     "data": {
      "text/plain": [
       "<matplotlib.image.AxesImage at 0x7f084ddb0080>"
      ]
     },
     "execution_count": 2,
     "metadata": {},
     "output_type": "execute_result"
    },
    {
     "data": {
      "image/png": "[encoded data removed]",
      "text/plain": [
       "<Figure size 432x288 with 1 Axes>"
      ]
     },
     "metadata": {
      "needs_background": "light"
     },
     "output_type": "display_data"
    }
   ],
   "source": [
    "(fashion_train_data, fashion_train_labels), (fashion_test_data, fashion_test_labels) = fashion_mnist.load_data()\n",
    "\n",
    "#keep  image  1 without modifying\n",
    "test_index = 1\n",
    "test_image = fashion_train_data[test_index]\n",
    "\n",
    "\n",
    "#classify 6000 images of 28*28\n",
    "print(\"Size of train inputs: \",fashion_train_data.shape)\n",
    "print(\"Size of test inputs: \",fashion_test_data.shape)\n",
    "\n",
    "#number of labels to clasify = 10\n",
    "print(\"Classify into \",len(set(fashion_train_labels)),\" labels : \",set(fashion_train_labels))\n",
    "print(\"\"\"Labels: \n",
    "0 T-shirt/top\n",
    "1 Trouser\n",
    "2 Pullover\n",
    "3 Dress\n",
    "4 Coat\n",
    "5 Sandal\n",
    "6 Shirt\n",
    "7 Sneaker\n",
    "8 Bag\n",
    "9 Ankle boot \"\"\")\n",
    "\n",
    "#normalize\n",
    "#aplastar la imagen de  6000*28*28 a 60000*728\n",
    "#estandarizar valores dividir entre 255 para obtener valores entre 0 y 1\n",
    "fashion_train_data = fashion_train_data.reshape((60000, 28 * 28))\n",
    "fashion_train_data = fashion_train_data.astype('float32') / 255 \n",
    "fashion_test_data = fashion_test_data.reshape((10000, 28 * 28))\n",
    "fashion_test_data = fashion_test_data.astype('float32') / 255 \n",
    "\n",
    "#one hot encoding los labels\n",
    "fashion_train_labels = to_categorical(fashion_train_labels)\n",
    "fashion_test_labels = to_categorical(fashion_test_labels)\n",
    "\n",
    "\n",
    "\n",
    "#generar set de validacion con 20%\n",
    "# fashion_validation_data = fashion_train_data[:int(60000*0.2)] #(sino pongo int()el resultado es 12000.0)\n",
    "# fashion_validation_labels = fashion_train_labels[:int(60000*0.2)]\n",
    "#quitar el set de validacion del train set\n",
    "# fashion_train_data = fashion_train_data[int(60000*0.8):]\n",
    "# fashion_train_labels = fashion_train_labels[int(60000*0.8):]\n",
    "\n",
    "\n",
    "#show image 1\n",
    "test_index = 1\n",
    "\n",
    "plt.title(\"Label: \" + str(fashion_train_labels[test_index]))\n",
    "plt.imshow(test_image, cmap=\"gray\")\n",
    "\n",
    "\n"
   ]
  },
  {
   "cell_type": "code",
   "execution_count": 3,
   "metadata": {},
   "outputs": [
    {
     "name": "stdout",
     "output_type": "stream",
     "text": [
      "_________________________________________________________________\n",
      "Layer (type)                 Output Shape              Param #   \n",
      "=================================================================\n",
      "dense_1 (Dense)              (None, 360)               282600    \n",
      "_________________________________________________________________\n",
      "dropout_1 (Dropout)          (None, 360)               0         \n",
      "_________________________________________________________________\n",
      "dense_2 (Dense)              (None, 192)               69312     \n",
      "_________________________________________________________________\n",
      "dropout_2 (Dropout)          (None, 192)               0         \n",
      "_________________________________________________________________\n",
      "dense_3 (Dense)              (None, 96)                18528     \n",
      "_________________________________________________________________\n",
      "dropout_3 (Dropout)          (None, 96)                0         \n",
      "_________________________________________________________________\n",
      "dense_4 (Dense)              (None, 32)                3104      \n",
      "_________________________________________________________________\n",
      "dropout_4 (Dropout)          (None, 32)                0         \n",
      "_________________________________________________________________\n",
      "dense_5 (Dense)              (None, 10)                330       \n",
      "=================================================================\n",
      "Total params: 373,874\n",
      "Trainable params: 373,874\n",
      "Non-trainable params: 0\n",
      "_________________________________________________________________\n",
      "Train on 48000 samples, validate on 12000 samples\n",
      "Epoch 1/50\n",
      " - 11s - loss: 1.6061 - categorical_accuracy: 0.4422 - val_loss: 0.9050 - val_categorical_accuracy: 0.6938\n",
      "Epoch 2/50\n",
      " - 4s - loss: 0.9323 - categorical_accuracy: 0.6714 - val_loss: 0.6965 - val_categorical_accuracy: 0.7641\n",
      "Epoch 3/50\n",
      " - 4s - loss: 0.7709 - categorical_accuracy: 0.7307 - val_loss: 0.6005 - val_categorical_accuracy: 0.7901\n",
      "Epoch 4/50\n",
      " - 4s - loss: 0.6831 - categorical_accuracy: 0.7614 - val_loss: 0.5501 - val_categorical_accuracy: 0.8092\n",
      "Epoch 5/50\n",
      " - 3s - loss: 0.6287 - categorical_accuracy: 0.7805 - val_loss: 0.5209 - val_categorical_accuracy: 0.8182\n",
      "Epoch 6/50\n",
      " - 3s - loss: 0.5919 - categorical_accuracy: 0.7934 - val_loss: 0.4980 - val_categorical_accuracy: 0.8295\n",
      "Epoch 7/50\n",
      " - 3s - loss: 0.5618 - categorical_accuracy: 0.8050 - val_loss: 0.4781 - val_categorical_accuracy: 0.8329\n",
      "Epoch 8/50\n",
      " - 3s - loss: 0.5432 - categorical_accuracy: 0.8105 - val_loss: 0.4647 - val_categorical_accuracy: 0.8350\n",
      "Epoch 9/50\n",
      " - 3s - loss: 0.5220 - categorical_accuracy: 0.8201 - val_loss: 0.4556 - val_categorical_accuracy: 0.8385\n",
      "Epoch 10/50\n",
      " - 3s - loss: 0.5079 - categorical_accuracy: 0.8234 - val_loss: 0.4429 - val_categorical_accuracy: 0.8427\n",
      "Epoch 11/50\n",
      " - 3s - loss: 0.4946 - categorical_accuracy: 0.8274 - val_loss: 0.4365 - val_categorical_accuracy: 0.8452\n",
      "Epoch 12/50\n",
      " - 3s - loss: 0.4812 - categorical_accuracy: 0.8327 - val_loss: 0.4250 - val_categorical_accuracy: 0.8479\n",
      "Epoch 13/50\n",
      " - 3s - loss: 0.4703 - categorical_accuracy: 0.8367 - val_loss: 0.4164 - val_categorical_accuracy: 0.8528\n",
      "Epoch 14/50\n",
      " - 3s - loss: 0.4592 - categorical_accuracy: 0.8405 - val_loss: 0.4093 - val_categorical_accuracy: 0.8538\n",
      "Epoch 15/50\n",
      " - 3s - loss: 0.4512 - categorical_accuracy: 0.8415 - val_loss: 0.4055 - val_categorical_accuracy: 0.8560\n",
      "Epoch 16/50\n",
      " - 3s - loss: 0.4411 - categorical_accuracy: 0.8459 - val_loss: 0.3979 - val_categorical_accuracy: 0.8581\n",
      "Epoch 17/50\n",
      " - 3s - loss: 0.4338 - categorical_accuracy: 0.8491 - val_loss: 0.3932 - val_categorical_accuracy: 0.8582\n",
      "Epoch 18/50\n",
      " - 3s - loss: 0.4278 - categorical_accuracy: 0.8510 - val_loss: 0.3895 - val_categorical_accuracy: 0.8600\n",
      "Epoch 19/50\n",
      " - 3s - loss: 0.4216 - categorical_accuracy: 0.8503 - val_loss: 0.3835 - val_categorical_accuracy: 0.8632\n",
      "Epoch 20/50\n",
      " - 3s - loss: 0.4163 - categorical_accuracy: 0.8561 - val_loss: 0.3803 - val_categorical_accuracy: 0.8618\n",
      "Epoch 21/50\n",
      " - 3s - loss: 0.4104 - categorical_accuracy: 0.8563 - val_loss: 0.3766 - val_categorical_accuracy: 0.8628\n",
      "Epoch 22/50\n",
      " - 3s - loss: 0.4040 - categorical_accuracy: 0.8584 - val_loss: 0.3734 - val_categorical_accuracy: 0.8662\n",
      "Epoch 23/50\n",
      " - 3s - loss: 0.3989 - categorical_accuracy: 0.8606 - val_loss: 0.3703 - val_categorical_accuracy: 0.8644\n",
      "Epoch 24/50\n",
      " - 3s - loss: 0.3932 - categorical_accuracy: 0.8618 - val_loss: 0.3654 - val_categorical_accuracy: 0.8685\n",
      "Epoch 25/50\n",
      " - 3s - loss: 0.3876 - categorical_accuracy: 0.8633 - val_loss: 0.3647 - val_categorical_accuracy: 0.8672\n",
      "Epoch 26/50\n",
      " - 3s - loss: 0.3832 - categorical_accuracy: 0.8654 - val_loss: 0.3582 - val_categorical_accuracy: 0.8685\n",
      "Epoch 27/50\n",
      " - 3s - loss: 0.3791 - categorical_accuracy: 0.8675 - val_loss: 0.3559 - val_categorical_accuracy: 0.8726\n",
      "Epoch 28/50\n",
      " - 3s - loss: 0.3752 - categorical_accuracy: 0.8691 - val_loss: 0.3550 - val_categorical_accuracy: 0.8717\n",
      "Epoch 29/50\n",
      " - 3s - loss: 0.3714 - categorical_accuracy: 0.8705 - val_loss: 0.3561 - val_categorical_accuracy: 0.8703\n",
      "Epoch 30/50\n",
      " - 3s - loss: 0.3669 - categorical_accuracy: 0.8705 - val_loss: 0.3476 - val_categorical_accuracy: 0.8741\n",
      "Epoch 31/50\n",
      " - 3s - loss: 0.3619 - categorical_accuracy: 0.8731 - val_loss: 0.3472 - val_categorical_accuracy: 0.8738\n",
      "Epoch 32/50\n",
      " - 3s - loss: 0.3599 - categorical_accuracy: 0.8733 - val_loss: 0.3458 - val_categorical_accuracy: 0.8758\n",
      "Epoch 33/50\n",
      " - 3s - loss: 0.3577 - categorical_accuracy: 0.8741 - val_loss: 0.3416 - val_categorical_accuracy: 0.8769\n",
      "Epoch 34/50\n",
      " - 3s - loss: 0.3535 - categorical_accuracy: 0.8769 - val_loss: 0.3427 - val_categorical_accuracy: 0.8765\n",
      "Epoch 35/50\n",
      " - 3s - loss: 0.3497 - categorical_accuracy: 0.8750 - val_loss: 0.3385 - val_categorical_accuracy: 0.8786\n",
      "Epoch 36/50\n",
      " - 3s - loss: 0.3456 - categorical_accuracy: 0.8783 - val_loss: 0.3388 - val_categorical_accuracy: 0.8791\n",
      "Epoch 37/50\n",
      " - 3s - loss: 0.3394 - categorical_accuracy: 0.8799 - val_loss: 0.3367 - val_categorical_accuracy: 0.8787\n",
      "Epoch 38/50\n",
      " - 3s - loss: 0.3403 - categorical_accuracy: 0.8804 - val_loss: 0.3369 - val_categorical_accuracy: 0.8795\n",
      "Epoch 39/50\n",
      " - 3s - loss: 0.3367 - categorical_accuracy: 0.8809 - val_loss: 0.3393 - val_categorical_accuracy: 0.8770\n",
      "Epoch 40/50\n",
      " - 3s - loss: 0.3356 - categorical_accuracy: 0.8822 - val_loss: 0.3364 - val_categorical_accuracy: 0.8812\n",
      "Epoch 41/50\n",
      " - 3s - loss: 0.3315 - categorical_accuracy: 0.8832 - val_loss: 0.3333 - val_categorical_accuracy: 0.8793\n",
      "Epoch 42/50\n",
      " - 4s - loss: 0.3244 - categorical_accuracy: 0.8845 - val_loss: 0.3277 - val_categorical_accuracy: 0.8825\n",
      "Epoch 43/50\n",
      " - 4s - loss: 0.3250 - categorical_accuracy: 0.8847 - val_loss: 0.3310 - val_categorical_accuracy: 0.8805\n",
      "Epoch 44/50\n",
      " - 4s - loss: 0.3229 - categorical_accuracy: 0.8855 - val_loss: 0.3291 - val_categorical_accuracy: 0.8839\n",
      "Epoch 45/50\n",
      " - 3s - loss: 0.3208 - categorical_accuracy: 0.8859 - val_loss: 0.3249 - val_categorical_accuracy: 0.8843\n",
      "Epoch 46/50\n",
      " - 3s - loss: 0.3180 - categorical_accuracy: 0.8870 - val_loss: 0.3268 - val_categorical_accuracy: 0.8840\n",
      "Epoch 47/50\n",
      " - 5s - loss: 0.3146 - categorical_accuracy: 0.8889 - val_loss: 0.3239 - val_categorical_accuracy: 0.8855\n",
      "Epoch 48/50\n",
      " - 3s - loss: 0.3146 - categorical_accuracy: 0.8891 - val_loss: 0.3245 - val_categorical_accuracy: 0.8840\n",
      "Epoch 49/50\n",
      " - 3s - loss: 0.3108 - categorical_accuracy: 0.8904 - val_loss: 0.3222 - val_categorical_accuracy: 0.8857\n",
      "Epoch 50/50\n",
      " - 4s - loss: 0.3090 - categorical_accuracy: 0.8900 - val_loss: 0.3203 - val_categorical_accuracy: 0.8860\n",
      "10000/10000 [==============================] - 0s 32us/step\n",
      "test loss:  0.3454826366782188 test accuracy:  0.876\n"
     ]
    }
   ],
   "source": [
    "\n",
    "# The keras.models.Sequential class is a wrapper for the neural network model that treats \n",
    "# the network as a sequence of layers\n",
    "network = models.Sequential()\n",
    "\n",
    "# Dense layers: fully connected layers\n",
    "network.add(layers.Dense(360, activation='relu', input_shape=(28 * 28,))) \n",
    "network.add(layers.Dropout(0.1))\n",
    "network.add(layers.Dense(192, activation='relu'))\n",
    "network.add(layers.Dropout(0.1))\n",
    "network.add(layers.Dense(96, activation='relu'))\n",
    "network.add(layers.Dropout(0.1))\n",
    "network.add(layers.Dense(32, activation='relu'))\n",
    "network.add(layers.Dropout(0.1))\n",
    "network.add(layers.Dense(10, activation='softmax'))\n",
    "\n",
    "early_stop = callbacks.EarlyStopping(monitor='val_loss',patience=5)\n",
    "\n",
    "network.compile(optimizer='sgd', loss='categorical_crossentropy', metrics=['categorical_accuracy'])\n",
    "#sgd = stocastic gradient descent\n",
    "#loss  = funciones de error\n",
    "\n",
    "network.summary()\n",
    "#two ways to do the validation\n",
    "#validation_data=(fashion_validation_data,fashion_validation_labels)\n",
    "#validation_split=0.2,\n",
    "history = network.fit(fashion_train_data, fashion_train_labels, batch_size = 128, validation_split=0.2, epochs=50, verbose=2)\n",
    "\n",
    "test_loss, test_acc = network.evaluate(fashion_test_data, fashion_test_labels)\n",
    "\n",
    "print(\"test loss: \", test_loss, \"test accuracy: \", test_acc)\n",
    "\n",
    "\n",
    "\n"
   ]
  },
  {
   "cell_type": "code",
   "execution_count": 4,
   "metadata": {},
   "outputs": [
    {
     "name": "stdout",
     "output_type": "stream",
     "text": [
      "dict_keys(['val_loss', 'val_categorical_accuracy', 'loss', 'categorical_accuracy'])\n"
     ]
    },
    {
     "data": {
      "image/png": "[encoded data removed]",
      "text/plain": [
       "<Figure size 432x288 with 1 Axes>"
      ]
     },
     "metadata": {
      "needs_background": "light"
     },
     "output_type": "display_data"
    }
   ],
   "source": [
    "\n",
    "# Plot of the validation and training loss\n",
    "\n",
    "# This dictionary stores the validation and accuracy of the model throughout the epochs\n",
    "history_dict = history.history\n",
    "# The history values are split in different lists for ease of plotting\n",
    "print(history_dict.keys())\n",
    "acc = history_dict['categorical_accuracy']\n",
    "val_acc = history_dict['val_categorical_accuracy']\n",
    "loss = history_dict['loss']\n",
    "val_loss = history_dict['val_loss']\n",
    "\n",
    "epochs = range(1, len(acc) + 1)\n",
    "# \"bo\" is for \"blue dot\"\n",
    "plt.plot(epochs, loss, 'bo', label='Training loss')\n",
    "# b is for \"solid blue line\"\n",
    "plt.plot(epochs, val_loss, 'b', label='Validation loss')\n",
    "plt.title('Training and validation loss')\n",
    "plt.xlabel('Epochs')\n",
    "plt.ylabel('Loss')\n",
    "plt.legend()\n",
    "\n",
    "plt.show()\n"
   ]
  },
  {
   "cell_type": "markdown",
   "metadata": {},
   "source": [
    "#### TO DO: Preprocess the data\n",
    "\n",
    "1. Normalize the input data set\n",
    "2. Perform one hot encoding\n",
    "3. Create a train, test, and validation set\n",
    "\n",
    "\n"
   ]
  },
  {
   "cell_type": "markdown",
   "metadata": {},
   "source": [
    "#### TO DO: Define and train a network, then plot the accuracy of the training, validation, and testing\n",
    "\n",
    "1. Use a validation set\n",
    "2. Propose and train a network\n",
    "3. Print the history of the training\n",
    "4. Evaluate with a test set"
   ]
  },
  {
   "cell_type": "markdown",
   "metadata": {},
   "source": [
    "## Classifying newswires\n",
    "\n",
    "---\n",
    "\n",
    "Build a network to classify Reuters newswires into 46 different mutually-exclusive topics."
   ]
  },
  {
   "cell_type": "markdown",
   "metadata": {},
   "source": [
    "### Load and review the data"
   ]
  },
  {
   "cell_type": "code",
   "execution_count": 5,
   "metadata": {},
   "outputs": [
    {
     "name": "stdout",
     "output_type": "stream",
     "text": [
      "(8982,)\n",
      "(8982,)\n",
      "[1, 3267, 699, 3434, 2295, 56, 2, 7511, 9, 56, 3906, 1073, 81, 5, 1198, 57, 366, 737, 132, 20, 4093, 7, 2, 49, 2295, 2, 1037, 3267, 699, 3434, 8, 7, 10, 241, 16, 855, 129, 231, 783, 5, 4, 587, 2295, 2, 2, 775, 7, 48, 34, 191, 44, 35, 1795, 505, 17, 12]\n",
      "4\n",
      "{0, 1, 2, 3, 4, 5, 6, 7, 8, 9, 10, 11, 12, 13, 14, 15, 16, 17, 18, 19, 20, 21, 22, 23, 24, 25, 26, 27, 28, 29, 30, 31, 32, 33, 34, 35, 36, 37, 38, 39, 40, 41, 42, 43, 44, 45}\n"
     ]
    }
   ],
   "source": [
    "(reuters_train_data, reuters_train_labels), (reuters_test_data, reuters_test_labels) = reuters.load_data(num_words=10000)\n",
    "\n",
    "print(reuters_train_data.shape)\n",
    "print(reuters_train_labels.shape)\n",
    "print(reuters_train_data[1])\n",
    "print(reuters_train_labels[5])\n",
    "\n",
    "print(set(reuters_train_labels))"
   ]
  },
  {
   "cell_type": "markdown",
   "metadata": {},
   "source": [
    "Load the word index to decode the train data."
   ]
  },
  {
   "cell_type": "code",
   "execution_count": 6,
   "metadata": {},
   "outputs": [
    {
     "name": "stdout",
     "output_type": "stream",
     "text": [
      "<START> <UNKNOWN> <UNKNOWN> said as a result of its december acquisition of space co it expects earnings per share in 1987 of 1 15 to 1 30 dlrs per share up from 70 cts in 1986 the company said pretax net should rise to nine to 10 mln dlrs from six mln dlrs in 1986 and rental operation revenues to 19 to 22 mln dlrs from 12 5 mln dlrs it said cash flow per share this year should be 2 50 to three dlrs reuter 3\n"
     ]
    }
   ],
   "source": [
    "word_index = reuters.get_word_index()\n",
    "\n",
    "reverse_index = dict([(value+3, key) for (key, value) in word_index.items()])\n",
    "\n",
    "reverse_index[0] = \"<PAD>\"\n",
    "reverse_index[1] = \"<START>\"\n",
    "reverse_index[2] = \"<UNKNOWN>\"  # unknown\n",
    "reverse_index[3] = \"<UNUSED>\"\n",
    "\n",
    "decoded_review = ' '.join([reverse_index.get(i,'?') for i in reuters_train_data[0]])\n",
    "\n",
    "print(decoded_review)"
   ]
  },
  {
   "cell_type": "code",
   "execution_count": 7,
   "metadata": {},
   "outputs": [
    {
     "name": "stdout",
     "output_type": "stream",
     "text": [
      "[1, 4, 1378, 2025, 9, 697, 4622, 111, 8, 25, 109, 29, 3650, 11, 150, 244, 364, 33, 30, 30, 1398, 333, 6, 2, 159, 9, 1084, 363, 13, 2, 71, 9, 2, 71, 117, 4, 225, 78, 206, 10, 9, 1214, 8, 4, 270, 5, 2, 7, 748, 48, 9, 2, 7, 207, 1451, 966, 1864, 793, 97, 133, 336, 7, 4, 493, 98, 273, 104, 284, 25, 39, 338, 22, 905, 220, 3465, 644, 59, 20, 6, 119, 61, 11, 15, 58, 579, 26, 10, 67, 7, 4, 738, 98, 43, 88, 333, 722, 12, 20, 6, 19, 746, 35, 15, 10, 9, 1214, 855, 129, 783, 21, 4, 2280, 244, 364, 51, 16, 299, 452, 16, 515, 4, 99, 29, 5, 4, 364, 281, 48, 10, 9, 1214, 23, 644, 47, 20, 324, 27, 56, 2, 2, 5, 192, 510, 17, 12]\n",
      "(8982, 10000)\n",
      "(2246, 10000)\n",
      "(8982, 46)\n",
      "(2246, 46)\n"
     ]
    }
   ],
   "source": [
    "#normalize\n",
    "print(reuters_test_data[0])\n",
    "# Turning the output into vector mode, each of length 10000\n",
    "tokenizer = Tokenizer(num_words=10000)\n",
    "reuters_train_data_token = tokenizer.sequences_to_matrix(reuters_train_data, mode='binary')\n",
    "reuters_test_data_token = tokenizer.sequences_to_matrix(reuters_test_data, mode='binary')\n",
    "# print(\"-----\")\n",
    "# print(reuters_test_data_token[0])\n",
    "# print(\"-----\")\n",
    "print(reuters_train_data_token.shape)\n",
    "print(reuters_test_data_token.shape)\n",
    "\n",
    "# One-hot encoding of the labels\n",
    "num_classes = 46\n",
    "reuters_one_hot_train_labels = to_categorical(reuters_train_labels, num_classes)\n",
    "reuters_one_hot_test_labels = to_categorical(reuters_test_labels, num_classes)\n",
    "print(reuters_one_hot_train_labels.shape)\n",
    "print(reuters_one_hot_test_labels.shape)\n",
    "\n",
    "\n"
   ]
  },
  {
   "cell_type": "code",
   "execution_count": 8,
   "metadata": {},
   "outputs": [
    {
     "name": "stdout",
     "output_type": "stream",
     "text": [
      "_________________________________________________________________\n",
      "Layer (type)                 Output Shape              Param #   \n",
      "=================================================================\n",
      "dense_1 (Dense)              (None, 360)               282600    \n",
      "_________________________________________________________________\n",
      "dropout_1 (Dropout)          (None, 360)               0         \n",
      "_________________________________________________________________\n",
      "dense_2 (Dense)              (None, 192)               69312     \n",
      "_________________________________________________________________\n",
      "dropout_2 (Dropout)          (None, 192)               0         \n",
      "_________________________________________________________________\n",
      "dense_3 (Dense)              (None, 96)                18528     \n",
      "_________________________________________________________________\n",
      "dropout_3 (Dropout)          (None, 96)                0         \n",
      "_________________________________________________________________\n",
      "dense_4 (Dense)              (None, 32)                3104      \n",
      "_________________________________________________________________\n",
      "dropout_4 (Dropout)          (None, 32)                0         \n",
      "_________________________________________________________________\n",
      "dense_5 (Dense)              (None, 10)                330       \n",
      "=================================================================\n",
      "Total params: 373,874\n",
      "Trainable params: 373,874\n",
      "Non-trainable params: 0\n",
      "_________________________________________________________________\n",
      "Train on 7634 samples, validate on 1348 samples\n",
      "Epoch 1/50\n",
      " - 33s - loss: 3.6303 - categorical_accuracy: 0.2818 - val_loss: 3.2873 - val_categorical_accuracy: 0.3435\n",
      "Epoch 2/50\n",
      " - 27s - loss: 2.7949 - categorical_accuracy: 0.3663 - val_loss: 2.4443 - val_categorical_accuracy: 0.4369\n",
      "Epoch 3/50\n",
      " - 29s - loss: 2.2626 - categorical_accuracy: 0.4777 - val_loss: 2.1005 - val_categorical_accuracy: 0.5141\n",
      "Epoch 4/50\n",
      " - 28s - loss: 2.0240 - categorical_accuracy: 0.5118 - val_loss: 1.9251 - val_categorical_accuracy: 0.5200\n",
      "Epoch 5/50\n"
     ]
    },
    {
     "ename": "KeyboardInterrupt",
     "evalue": "",
     "output_type": "error",
     "traceback": [
      "\u001b[0;31m---------------------------------------------------------------------------\u001b[0m",
      "\u001b[0;31mKeyboardInterrupt\u001b[0m                         Traceback (most recent call last)",
      "\u001b[0;32m<ipython-input-8-debd5b36b3b3>\u001b[0m in \u001b[0;36m<module>\u001b[0;34m\u001b[0m\n\u001b[1;32m     20\u001b[0m \u001b[0;34m\u001b[0m\u001b[0m\n\u001b[1;32m     21\u001b[0m \u001b[0;31m#validation_split=0.2,\u001b[0m\u001b[0;34m\u001b[0m\u001b[0;34m\u001b[0m\u001b[0;34m\u001b[0m\u001b[0m\n\u001b[0;32m---> 22\u001b[0;31m \u001b[0mhistory\u001b[0m \u001b[0;34m=\u001b[0m \u001b[0mnetwork2\u001b[0m\u001b[0;34m.\u001b[0m\u001b[0mfit\u001b[0m\u001b[0;34m(\u001b[0m\u001b[0mreuters_train_data_token\u001b[0m\u001b[0;34m,\u001b[0m \u001b[0mreuters_one_hot_train_labels\u001b[0m\u001b[0;34m,\u001b[0m \u001b[0mbatch_size\u001b[0m \u001b[0;34m=\u001b[0m \u001b[0;36m128\u001b[0m\u001b[0;34m,\u001b[0m \u001b[0mvalidation_split\u001b[0m\u001b[0;34m=\u001b[0m\u001b[0;36m0.15\u001b[0m\u001b[0;34m,\u001b[0m \u001b[0mepochs\u001b[0m\u001b[0;34m=\u001b[0m\u001b[0;36m50\u001b[0m\u001b[0;34m,\u001b[0m \u001b[0mverbose\u001b[0m\u001b[0;34m=\u001b[0m\u001b[0;36m2\u001b[0m\u001b[0;34m)\u001b[0m\u001b[0;34m\u001b[0m\u001b[0;34m\u001b[0m\u001b[0m\n\u001b[0m\u001b[1;32m     23\u001b[0m \u001b[0;34m\u001b[0m\u001b[0m\n\u001b[1;32m     24\u001b[0m \u001b[0mtest_loss\u001b[0m\u001b[0;34m,\u001b[0m \u001b[0mtest_acc\u001b[0m \u001b[0;34m=\u001b[0m \u001b[0mnetwork2\u001b[0m\u001b[0;34m.\u001b[0m\u001b[0mevaluate\u001b[0m\u001b[0;34m(\u001b[0m\u001b[0mreuters_test_data_token\u001b[0m\u001b[0;34m,\u001b[0m \u001b[0mreuters_one_hot_test_labels\u001b[0m\u001b[0;34m)\u001b[0m\u001b[0;34m\u001b[0m\u001b[0;34m\u001b[0m\u001b[0m\n",
      "\u001b[0;32m~/anaconda3/envs/dl-computer-vision/lib/python3.6/site-packages/keras/engine/training.py\u001b[0m in \u001b[0;36mfit\u001b[0;34m(self, x, y, batch_size, epochs, verbose, callbacks, validation_split, validation_data, shuffle, class_weight, sample_weight, initial_epoch, steps_per_epoch, validation_steps, **kwargs)\u001b[0m\n\u001b[1;32m   1037\u001b[0m                                         \u001b[0minitial_epoch\u001b[0m\u001b[0;34m=\u001b[0m\u001b[0minitial_epoch\u001b[0m\u001b[0;34m,\u001b[0m\u001b[0;34m\u001b[0m\u001b[0;34m\u001b[0m\u001b[0m\n\u001b[1;32m   1038\u001b[0m                                         \u001b[0msteps_per_epoch\u001b[0m\u001b[0;34m=\u001b[0m\u001b[0msteps_per_epoch\u001b[0m\u001b[0;34m,\u001b[0m\u001b[0;34m\u001b[0m\u001b[0;34m\u001b[0m\u001b[0m\n\u001b[0;32m-> 1039\u001b[0;31m                                         validation_steps=validation_steps)\n\u001b[0m\u001b[1;32m   1040\u001b[0m \u001b[0;34m\u001b[0m\u001b[0m\n\u001b[1;32m   1041\u001b[0m     def evaluate(self, x=None, y=None,\n",
      "\u001b[0;32m~/anaconda3/envs/dl-computer-vision/lib/python3.6/site-packages/keras/engine/training_arrays.py\u001b[0m in \u001b[0;36mfit_loop\u001b[0;34m(model, f, ins, out_labels, batch_size, epochs, verbose, callbacks, val_f, val_ins, shuffle, callback_metrics, initial_epoch, steps_per_epoch, validation_steps)\u001b[0m\n\u001b[1;32m    197\u001b[0m                     \u001b[0mins_batch\u001b[0m\u001b[0;34m[\u001b[0m\u001b[0mi\u001b[0m\u001b[0;34m]\u001b[0m \u001b[0;34m=\u001b[0m \u001b[0mins_batch\u001b[0m\u001b[0;34m[\u001b[0m\u001b[0mi\u001b[0m\u001b[0;34m]\u001b[0m\u001b[0;34m.\u001b[0m\u001b[0mtoarray\u001b[0m\u001b[0;34m(\u001b[0m\u001b[0;34m)\u001b[0m\u001b[0;34m\u001b[0m\u001b[0;34m\u001b[0m\u001b[0m\n\u001b[1;32m    198\u001b[0m \u001b[0;34m\u001b[0m\u001b[0m\n\u001b[0;32m--> 199\u001b[0;31m                 \u001b[0mouts\u001b[0m \u001b[0;34m=\u001b[0m \u001b[0mf\u001b[0m\u001b[0;34m(\u001b[0m\u001b[0mins_batch\u001b[0m\u001b[0;34m)\u001b[0m\u001b[0;34m\u001b[0m\u001b[0;34m\u001b[0m\u001b[0m\n\u001b[0m\u001b[1;32m    200\u001b[0m                 \u001b[0mouts\u001b[0m \u001b[0;34m=\u001b[0m \u001b[0mto_list\u001b[0m\u001b[0;34m(\u001b[0m\u001b[0mouts\u001b[0m\u001b[0;34m)\u001b[0m\u001b[0;34m\u001b[0m\u001b[0;34m\u001b[0m\u001b[0m\n\u001b[1;32m    201\u001b[0m                 \u001b[0;32mfor\u001b[0m \u001b[0ml\u001b[0m\u001b[0;34m,\u001b[0m \u001b[0mo\u001b[0m \u001b[0;32min\u001b[0m \u001b[0mzip\u001b[0m\u001b[0;34m(\u001b[0m\u001b[0mout_labels\u001b[0m\u001b[0;34m,\u001b[0m \u001b[0mouts\u001b[0m\u001b[0;34m)\u001b[0m\u001b[0;34m:\u001b[0m\u001b[0;34m\u001b[0m\u001b[0;34m\u001b[0m\u001b[0m\n",
      "\u001b[0;32m~/anaconda3/envs/dl-computer-vision/lib/python3.6/site-packages/keras/backend/tensorflow_backend.py\u001b[0m in \u001b[0;36m__call__\u001b[0;34m(self, inputs)\u001b[0m\n\u001b[1;32m   2713\u001b[0m                 \u001b[0;32mreturn\u001b[0m \u001b[0mself\u001b[0m\u001b[0;34m.\u001b[0m\u001b[0m_legacy_call\u001b[0m\u001b[0;34m(\u001b[0m\u001b[0minputs\u001b[0m\u001b[0;34m)\u001b[0m\u001b[0;34m\u001b[0m\u001b[0;34m\u001b[0m\u001b[0m\n\u001b[1;32m   2714\u001b[0m \u001b[0;34m\u001b[0m\u001b[0m\n\u001b[0;32m-> 2715\u001b[0;31m             \u001b[0;32mreturn\u001b[0m \u001b[0mself\u001b[0m\u001b[0;34m.\u001b[0m\u001b[0m_call\u001b[0m\u001b[0;34m(\u001b[0m\u001b[0minputs\u001b[0m\u001b[0;34m)\u001b[0m\u001b[0;34m\u001b[0m\u001b[0;34m\u001b[0m\u001b[0m\n\u001b[0m\u001b[1;32m   2716\u001b[0m         \u001b[0;32melse\u001b[0m\u001b[0;34m:\u001b[0m\u001b[0;34m\u001b[0m\u001b[0;34m\u001b[0m\u001b[0m\n\u001b[1;32m   2717\u001b[0m             \u001b[0;32mif\u001b[0m \u001b[0mpy_any\u001b[0m\u001b[0;34m(\u001b[0m\u001b[0mis_tensor\u001b[0m\u001b[0;34m(\u001b[0m\u001b[0mx\u001b[0m\u001b[0;34m)\u001b[0m \u001b[0;32mfor\u001b[0m \u001b[0mx\u001b[0m \u001b[0;32min\u001b[0m \u001b[0minputs\u001b[0m\u001b[0;34m)\u001b[0m\u001b[0;34m:\u001b[0m\u001b[0;34m\u001b[0m\u001b[0;34m\u001b[0m\u001b[0m\n",
      "\u001b[0;32m~/anaconda3/envs/dl-computer-vision/lib/python3.6/site-packages/keras/backend/tensorflow_backend.py\u001b[0m in \u001b[0;36m_call\u001b[0;34m(self, inputs)\u001b[0m\n\u001b[1;32m   2673\u001b[0m             \u001b[0mfetched\u001b[0m \u001b[0;34m=\u001b[0m \u001b[0mself\u001b[0m\u001b[0;34m.\u001b[0m\u001b[0m_callable_fn\u001b[0m\u001b[0;34m(\u001b[0m\u001b[0;34m*\u001b[0m\u001b[0marray_vals\u001b[0m\u001b[0;34m,\u001b[0m \u001b[0mrun_metadata\u001b[0m\u001b[0;34m=\u001b[0m\u001b[0mself\u001b[0m\u001b[0;34m.\u001b[0m\u001b[0mrun_metadata\u001b[0m\u001b[0;34m)\u001b[0m\u001b[0;34m\u001b[0m\u001b[0;34m\u001b[0m\u001b[0m\n\u001b[1;32m   2674\u001b[0m         \u001b[0;32melse\u001b[0m\u001b[0;34m:\u001b[0m\u001b[0;34m\u001b[0m\u001b[0;34m\u001b[0m\u001b[0m\n\u001b[0;32m-> 2675\u001b[0;31m             \u001b[0mfetched\u001b[0m \u001b[0;34m=\u001b[0m \u001b[0mself\u001b[0m\u001b[0;34m.\u001b[0m\u001b[0m_callable_fn\u001b[0m\u001b[0;34m(\u001b[0m\u001b[0;34m*\u001b[0m\u001b[0marray_vals\u001b[0m\u001b[0;34m)\u001b[0m\u001b[0;34m\u001b[0m\u001b[0;34m\u001b[0m\u001b[0m\n\u001b[0m\u001b[1;32m   2676\u001b[0m         \u001b[0;32mreturn\u001b[0m \u001b[0mfetched\u001b[0m\u001b[0;34m[\u001b[0m\u001b[0;34m:\u001b[0m\u001b[0mlen\u001b[0m\u001b[0;34m(\u001b[0m\u001b[0mself\u001b[0m\u001b[0;34m.\u001b[0m\u001b[0moutputs\u001b[0m\u001b[0;34m)\u001b[0m\u001b[0;34m]\u001b[0m\u001b[0;34m\u001b[0m\u001b[0;34m\u001b[0m\u001b[0m\n\u001b[1;32m   2677\u001b[0m \u001b[0;34m\u001b[0m\u001b[0m\n",
      "\u001b[0;32m~/anaconda3/envs/dl-computer-vision/lib/python3.6/site-packages/tensorflow/python/client/session.py\u001b[0m in \u001b[0;36m__call__\u001b[0;34m(self, *args, **kwargs)\u001b[0m\n\u001b[1;32m   1437\u001b[0m           ret = tf_session.TF_SessionRunCallable(\n\u001b[1;32m   1438\u001b[0m               \u001b[0mself\u001b[0m\u001b[0;34m.\u001b[0m\u001b[0m_session\u001b[0m\u001b[0;34m.\u001b[0m\u001b[0m_session\u001b[0m\u001b[0;34m,\u001b[0m \u001b[0mself\u001b[0m\u001b[0;34m.\u001b[0m\u001b[0m_handle\u001b[0m\u001b[0;34m,\u001b[0m \u001b[0margs\u001b[0m\u001b[0;34m,\u001b[0m \u001b[0mstatus\u001b[0m\u001b[0;34m,\u001b[0m\u001b[0;34m\u001b[0m\u001b[0;34m\u001b[0m\u001b[0m\n\u001b[0;32m-> 1439\u001b[0;31m               run_metadata_ptr)\n\u001b[0m\u001b[1;32m   1440\u001b[0m         \u001b[0;32mif\u001b[0m \u001b[0mrun_metadata\u001b[0m\u001b[0;34m:\u001b[0m\u001b[0;34m\u001b[0m\u001b[0;34m\u001b[0m\u001b[0m\n\u001b[1;32m   1441\u001b[0m           \u001b[0mproto_data\u001b[0m \u001b[0;34m=\u001b[0m \u001b[0mtf_session\u001b[0m\u001b[0;34m.\u001b[0m\u001b[0mTF_GetBuffer\u001b[0m\u001b[0;34m(\u001b[0m\u001b[0mrun_metadata_ptr\u001b[0m\u001b[0;34m)\u001b[0m\u001b[0;34m\u001b[0m\u001b[0;34m\u001b[0m\u001b[0m\n",
      "\u001b[0;31mKeyboardInterrupt\u001b[0m: "
     ]
    }
   ],
   "source": [
    "# the network as a sequence of layers\n",
    "network2 = models.Sequential()\n",
    "\n",
    "# Dense layers: fully connected layers\n",
    "network2.add(layers.Dense(3600, activation='relu', input_dim=(10000))) \n",
    "network2.add(layers.Dropout(0.1))\n",
    "network2.add(layers.Dense(1600, activation='relu'))\n",
    "network2.add(layers.Dropout(0.1))\n",
    "network2.add(layers.Dense(720, activation='relu'))\n",
    "network2.add(layers.Dropout(0.1))\n",
    "network2.add(layers.Dense(128, activation='relu'))\n",
    "network2.add(layers.Dropout(0.1))\n",
    "network2.add(layers.Dense(46, activation='softmax'))\n",
    "\n",
    "early_stop = callbacks.EarlyStopping(monitor='val_loss',patience=5)\n",
    "\n",
    "network2.compile(optimizer='sgd', loss='categorical_crossentropy', metrics=['categorical_accuracy'])\n",
    "\n",
    "network.summary()\n",
    "\n",
    "#validation_split=0.2,\n",
    "history = network2.fit(reuters_train_data_token, reuters_one_hot_train_labels, batch_size = 128, validation_split=0.15, epochs=50, verbose=2)\n",
    "\n",
    "test_loss, test_acc = network2.evaluate(reuters_test_data_token, reuters_one_hot_test_labels)\n",
    "\n",
    "print(\"test loss: \", test_loss, \"test accuracy: \", test_acc)"
   ]
  },
  {
   "cell_type": "code",
   "execution_count": null,
   "metadata": {},
   "outputs": [],
   "source": [
    "\n",
    "\n",
    "history_dict = history.history\n",
    "# The history values are split in different lists for ease of plotting\n",
    "acc = history_dict['categorical_accuracy']\n",
    "val_acc = history_dict['val_categorical_accuracy']\n",
    "loss = history_dict['loss']\n",
    "val_loss = history_dict['val_loss']\n",
    "\n",
    "epochs = range(1, len(acc) + 1)\n",
    "# \"bo\" is for \"blue dot\"\n",
    "plt.plot(epochs, loss, 'bo', label='Training loss')\n",
    "# b is for \"solid blue line\"\n",
    "plt.plot(epochs, val_loss, 'b', label='Validation loss')\n",
    "plt.title('Training and validation loss')\n",
    "plt.xlabel('Epochs')\n",
    "plt.ylabel('Loss')\n",
    "plt.legend()\n",
    "\n",
    "plt.show()\n"
   ]
  },
  {
   "cell_type": "markdown",
   "metadata": {},
   "source": [
    "#### TO DO: Preprocess the data\n",
    "\n",
    "1. Normalize the input data set\n",
    "2. Perform one hot encoding\n",
    "3. Create a train, test, and validation set"
   ]
  },
  {
   "cell_type": "markdown",
   "metadata": {},
   "source": [
    "#### TO DO: Define and train a network, then plot the accuracy of the training, validation, and testing\n",
    "\n",
    "1. Use a validation set\n",
    "2. Propose and train a network\n",
    "3. Print the history of the training\n",
    "4. Evaluate with a test set"
   ]
  },
  {
   "cell_type": "markdown",
   "metadata": {},
   "source": [
    "## Predicting Student Admissions\n",
    "\n",
    "---\n",
    "\n",
    "Predict student admissions based on three pieces of data:\n",
    "\n",
    "- GRE Scores\n",
    "- GPA Scores\n",
    "- Class rank"
   ]
  },
  {
   "cell_type": "markdown",
   "metadata": {},
   "source": [
    "### Load and visualize the data"
   ]
  },
  {
   "cell_type": "code",
   "execution_count": 16,
   "metadata": {},
   "outputs": [
    {
     "name": "stdout",
     "output_type": "stream",
     "text": [
      "     admit  gre   gpa  rank\n",
      "0        0  380  3.61     3\n",
      "1        1  660  3.67     3\n",
      "2        1  800  4.00     1\n",
      "3        1  640  3.19     4\n",
      "4        0  520  2.93     4\n",
      "5        1  760  3.00     2\n",
      "6        1  560  2.98     1\n",
      "7        0  400  3.08     2\n",
      "8        1  540  3.39     3\n",
      "9        0  700  3.92     2\n",
      "10       0  800  4.00     4\n",
      "11       0  440  3.22     1\n",
      "12       1  760  4.00     1\n",
      "13       0  700  3.08     2\n",
      "14       1  700  4.00     1\n",
      "15       0  480  3.44     3\n",
      "16       0  780  3.87     4\n",
      "17       0  360  2.56     3\n",
      "18       0  800  3.75     2\n",
      "19       1  540  3.81     1\n",
      "20       0  500  3.17     3\n",
      "21       1  660  3.63     2\n",
      "22       0  600  2.82     4\n",
      "23       0  680  3.19     4\n",
      "24       1  760  3.35     2\n",
      "25       1  800  3.66     1\n",
      "26       1  620  3.61     1\n",
      "27       1  520  3.74     4\n",
      "28       1  780  3.22     2\n",
      "29       0  520  3.29     1\n",
      "..     ...  ...   ...   ...\n",
      "367      1  540  3.77     2\n",
      "368      1  680  3.76     3\n",
      "369      1  680  2.42     1\n",
      "370      1  620  3.37     1\n",
      "371      0  560  3.78     2\n",
      "372      0  560  3.49     4\n",
      "373      0  620  3.63     2\n",
      "374      1  800  4.00     2\n",
      "375      0  640  3.12     3\n",
      "376      0  540  2.70     2\n",
      "377      0  700  3.65     2\n",
      "378      1  540  3.49     2\n",
      "379      0  540  3.51     2\n",
      "380      0  660  4.00     1\n",
      "381      1  480  2.62     2\n",
      "382      0  420  3.02     1\n",
      "383      1  740  3.86     2\n",
      "384      0  580  3.36     2\n",
      "385      0  640  3.17     2\n",
      "386      0  640  3.51     2\n",
      "387      1  800  3.05     2\n",
      "388      1  660  3.88     2\n",
      "389      1  600  3.38     3\n",
      "390      1  620  3.75     2\n",
      "391      1  460  3.99     3\n",
      "392      0  620  4.00     2\n",
      "393      0  560  3.04     3\n",
      "394      0  460  2.63     2\n",
      "395      0  700  3.65     2\n",
      "396      0  600  3.89     3\n",
      "\n",
      "[397 rows x 4 columns]\n"
     ]
    }
   ],
   "source": [
    "student_data = pd.read_csv(\"student_data.csv\")\n",
    "print(student_data)"
   ]
  },
  {
   "cell_type": "markdown",
   "metadata": {},
   "source": [
    "Plot of the GRE and the GPA from the data."
   ]
  },
  {
   "cell_type": "code",
   "execution_count": 17,
   "metadata": {},
   "outputs": [
    {
     "data": {
      "image/png": "[encoded data removed]",
      "text/plain": [
       "<Figure size 432x288 with 1 Axes>"
      ]
     },
     "metadata": {
      "needs_background": "light"
     },
     "output_type": "display_data"
    }
   ],
   "source": [
    "X = np.array(student_data[[\"gre\",\"gpa\"]])\n",
    "y = np.array(student_data[\"admit\"])\n",
    "admitted = X[np.argwhere(y==1)]\n",
    "rejected = X[np.argwhere(y==0)]\n",
    "plt.scatter([s[0][0] for s in rejected], [s[0][1] for s in rejected], s = 25, color = 'red', edgecolor = 'k')\n",
    "plt.scatter([s[0][0] for s in admitted], [s[0][1] for s in admitted], s = 25, color = 'cyan', edgecolor = 'k')\n",
    "plt.xlabel('Test (GRE)')\n",
    "plt.ylabel('Grades (GPA)')\n",
    "\n",
    "plt.show()"
   ]
  },
  {
   "cell_type": "markdown",
   "metadata": {},
   "source": [
    "Plot of the data by class rank."
   ]
  },
  {
   "cell_type": "code",
   "execution_count": 19,
   "metadata": {},
   "outputs": [
    {
     "data": {
      "image/png": "[encoded data removed]",
      "text/plain": [
       "<Figure size 1440x720 with 4 Axes>"
      ]
     },
     "metadata": {
      "needs_background": "light"
     },
     "output_type": "display_data"
    }
   ],
   "source": [
    "f, plots = plt.subplots(2, 2, figsize=(20,10))\n",
    "plots = [plot for sublist in plots for plot in sublist]\n",
    "\n",
    "for idx, plot in enumerate(plots):\n",
    "    data_rank = student_data[student_data[\"rank\"]==idx+1]\n",
    "    plot.set_title(\"Rank \" + str(idx+1))\n",
    "    X = np.array(data_rank[[\"gre\",\"gpa\"]])\n",
    "    y = np.array(data_rank[\"admit\"])\n",
    "    admitted = X[np.argwhere(y==1)]\n",
    "    rejected = X[np.argwhere(y==0)]\n",
    "    plot.scatter([s[0][0] for s in rejected], [s[0][1] for s in rejected], s = 25, color = 'red', edgecolor = 'k')\n",
    "    plot.scatter([s[0][0] for s in admitted], [s[0][1] for s in admitted], s = 25, color = 'cyan', edgecolor = 'k')\n",
    "    plot.set_xlabel('Test (GRE)')\n",
    "    plot.set_ylabel('Grades (GPA)')\n",
    "    "
   ]
  },
  {
   "cell_type": "code",
   "execution_count": 15,
   "metadata": {},
   "outputs": [
    {
     "name": "stdout",
     "output_type": "stream",
     "text": [
      "GPA mean:  -6.711675715618075e-18  GRE mean:  -9.650475698147914e+50\n",
      "GPA std:  1.0  GRE std:  1.6015570125888907e+68\n",
      "(317, 6)\n",
      "(317, 2)\n",
      "(80, 6)\n",
      "(80, 2)\n"
     ]
    }
   ],
   "source": [
    "#convert the data to np arrays\n",
    "gpa = np.array(student_data[\"gpa\"])\n",
    "gre = np.array(student_data[\"gre\"])\n",
    "\n",
    "#get the mean and std deviation of gpa and gre\n",
    "gpa_mean = np.average(gpa)\n",
    "gre_mean = np.average(gre)\n",
    "\n",
    "gpa_std = np.std(gpa)\n",
    "gre_std = np.std(gre)\n",
    "\n",
    "#check the values\n",
    "print(\"GPA mean: \",gpa_mean, \" GRE mean: \",gre_mean)\n",
    "print(\"GPA std: \",gpa_std, \" GRE std: \",gre_std)\n",
    "\n",
    "#standarize the input with the mean and std\n",
    "student_data[\"gpa\"]-=gpa_mean\n",
    "student_data[\"gpa\"]/=gpa_std\n",
    "\n",
    "student_data[\"gre\"]-=gre_mean\n",
    "student_data[\"gre\"]/=gpa_mean\n",
    "\n",
    "\n",
    "#make the rank categorical\n",
    "rank = np.array(student_data[\"rank\"]-1) #-1 makes them 0-3 instead of 1-4\n",
    "rank = to_categorical(rank)\n",
    "\n",
    "#create array for the data\n",
    "data = np.zeros((student_data.shape[0],6))\n",
    "data[:,0] = np.array(student_data[\"gre\"])\n",
    "data[:,1] = np.array(student_data[\"gpa\"])\n",
    "data[:,2:6] = rank\n",
    "\n",
    "#get the labels from the admitted value\n",
    "student_labels = np.array(student_data[\"admit\"])\n",
    "\n",
    "#create a training and validation set\n",
    "#there are 397 complete students,\n",
    "#validation = 80, training =317\n",
    "student_train_data = data [:317]\n",
    "student_train_labels = to_categorical(student_labels[:317])\n",
    "\n",
    "student_test_data = data[317:]\n",
    "student_test_labels = to_categorical(student_labels[317:])\n",
    "\n",
    "\n",
    "print (student_train_data.shape)\n",
    "print (student_train_labels.shape)\n",
    "print (student_test_data.shape)\n",
    "print (student_test_labels.shape)\n"
   ]
  },
  {
   "cell_type": "code",
   "execution_count": 25,
   "metadata": {},
   "outputs": [
    {
     "name": "stdout",
     "output_type": "stream",
     "text": [
      "_________________________________________________________________\n",
      "Layer (type)                 Output Shape              Param #   \n",
      "=================================================================\n",
      "dense_39 (Dense)             (None, 200)               1400      \n",
      "_________________________________________________________________\n",
      "dropout_31 (Dropout)         (None, 200)               0         \n",
      "_________________________________________________________________\n",
      "dense_40 (Dense)             (None, 90)                18090     \n",
      "_________________________________________________________________\n",
      "dropout_32 (Dropout)         (None, 90)                0         \n",
      "_________________________________________________________________\n",
      "dense_41 (Dense)             (None, 30)                2730      \n",
      "_________________________________________________________________\n",
      "dropout_33 (Dropout)         (None, 30)                0         \n",
      "_________________________________________________________________\n",
      "dense_42 (Dense)             (None, 2)                 62        \n",
      "=================================================================\n",
      "Total params: 22,282\n",
      "Trainable params: 22,282\n",
      "Non-trainable params: 0\n",
      "_________________________________________________________________\n",
      "Train on 269 samples, validate on 48 samples\n",
      "Epoch 1/50\n",
      " - 1s - loss: nan - categorical_accuracy: 0.6952 - val_loss: nan - val_categorical_accuracy: 0.6250\n",
      "Epoch 2/50\n",
      " - 0s - loss: nan - categorical_accuracy: 0.6952 - val_loss: nan - val_categorical_accuracy: 0.6250\n",
      "Epoch 3/50\n",
      " - 0s - loss: nan - categorical_accuracy: 0.6952 - val_loss: nan - val_categorical_accuracy: 0.6250\n",
      "Epoch 4/50\n",
      " - 0s - loss: nan - categorical_accuracy: 0.6952 - val_loss: nan - val_categorical_accuracy: 0.6250\n",
      "Epoch 5/50\n",
      " - 0s - loss: nan - categorical_accuracy: 0.6952 - val_loss: nan - val_categorical_accuracy: 0.6250\n",
      "Epoch 6/50\n",
      " - 0s - loss: nan - categorical_accuracy: 0.6952 - val_loss: nan - val_categorical_accuracy: 0.6250\n",
      "Epoch 7/50\n",
      " - 0s - loss: nan - categorical_accuracy: 0.6952 - val_loss: nan - val_categorical_accuracy: 0.6250\n",
      "Epoch 8/50\n",
      " - 0s - loss: nan - categorical_accuracy: 0.6952 - val_loss: nan - val_categorical_accuracy: 0.6250\n",
      "Epoch 9/50\n",
      " - 0s - loss: nan - categorical_accuracy: 0.6952 - val_loss: nan - val_categorical_accuracy: 0.6250\n",
      "Epoch 10/50\n",
      " - 0s - loss: nan - categorical_accuracy: 0.6952 - val_loss: nan - val_categorical_accuracy: 0.6250\n",
      "Epoch 11/50\n",
      " - 0s - loss: nan - categorical_accuracy: 0.6952 - val_loss: nan - val_categorical_accuracy: 0.6250\n",
      "Epoch 12/50\n",
      " - 0s - loss: nan - categorical_accuracy: 0.6952 - val_loss: nan - val_categorical_accuracy: 0.6250\n",
      "Epoch 13/50\n",
      " - 0s - loss: nan - categorical_accuracy: 0.6952 - val_loss: nan - val_categorical_accuracy: 0.6250\n",
      "Epoch 14/50\n",
      " - 0s - loss: nan - categorical_accuracy: 0.6952 - val_loss: nan - val_categorical_accuracy: 0.6250\n",
      "Epoch 15/50\n",
      " - 0s - loss: nan - categorical_accuracy: 0.6952 - val_loss: nan - val_categorical_accuracy: 0.6250\n",
      "Epoch 16/50\n",
      " - 0s - loss: nan - categorical_accuracy: 0.6952 - val_loss: nan - val_categorical_accuracy: 0.6250\n",
      "Epoch 17/50\n",
      " - 0s - loss: nan - categorical_accuracy: 0.6952 - val_loss: nan - val_categorical_accuracy: 0.6250\n",
      "Epoch 18/50\n",
      " - 0s - loss: nan - categorical_accuracy: 0.6952 - val_loss: nan - val_categorical_accuracy: 0.6250\n",
      "Epoch 19/50\n",
      " - 0s - loss: nan - categorical_accuracy: 0.6952 - val_loss: nan - val_categorical_accuracy: 0.6250\n",
      "Epoch 20/50\n",
      " - 0s - loss: nan - categorical_accuracy: 0.6952 - val_loss: nan - val_categorical_accuracy: 0.6250\n",
      "Epoch 21/50\n",
      " - 0s - loss: nan - categorical_accuracy: 0.6952 - val_loss: nan - val_categorical_accuracy: 0.6250\n",
      "Epoch 22/50\n",
      " - 0s - loss: nan - categorical_accuracy: 0.6952 - val_loss: nan - val_categorical_accuracy: 0.6250\n",
      "Epoch 23/50\n",
      " - 0s - loss: nan - categorical_accuracy: 0.6952 - val_loss: nan - val_categorical_accuracy: 0.6250\n",
      "Epoch 24/50\n",
      " - 0s - loss: nan - categorical_accuracy: 0.6952 - val_loss: nan - val_categorical_accuracy: 0.6250\n",
      "Epoch 25/50\n",
      " - 0s - loss: nan - categorical_accuracy: 0.6952 - val_loss: nan - val_categorical_accuracy: 0.6250\n",
      "Epoch 26/50\n",
      " - 0s - loss: nan - categorical_accuracy: 0.6952 - val_loss: nan - val_categorical_accuracy: 0.6250\n",
      "Epoch 27/50\n",
      " - 0s - loss: nan - categorical_accuracy: 0.6952 - val_loss: nan - val_categorical_accuracy: 0.6250\n",
      "Epoch 28/50\n",
      " - 0s - loss: nan - categorical_accuracy: 0.6952 - val_loss: nan - val_categorical_accuracy: 0.6250\n",
      "Epoch 29/50\n",
      " - 0s - loss: nan - categorical_accuracy: 0.6952 - val_loss: nan - val_categorical_accuracy: 0.6250\n",
      "Epoch 30/50\n",
      " - 0s - loss: nan - categorical_accuracy: 0.6952 - val_loss: nan - val_categorical_accuracy: 0.6250\n",
      "Epoch 31/50\n",
      " - 0s - loss: nan - categorical_accuracy: 0.6952 - val_loss: nan - val_categorical_accuracy: 0.6250\n",
      "Epoch 32/50\n",
      " - 0s - loss: nan - categorical_accuracy: 0.6952 - val_loss: nan - val_categorical_accuracy: 0.6250\n",
      "Epoch 33/50\n",
      " - 0s - loss: nan - categorical_accuracy: 0.6952 - val_loss: nan - val_categorical_accuracy: 0.6250\n",
      "Epoch 34/50\n",
      " - 0s - loss: nan - categorical_accuracy: 0.6952 - val_loss: nan - val_categorical_accuracy: 0.6250\n",
      "Epoch 35/50\n",
      " - 0s - loss: nan - categorical_accuracy: 0.6952 - val_loss: nan - val_categorical_accuracy: 0.6250\n",
      "Epoch 36/50\n",
      " - 0s - loss: nan - categorical_accuracy: 0.6952 - val_loss: nan - val_categorical_accuracy: 0.6250\n",
      "Epoch 37/50\n",
      " - 0s - loss: nan - categorical_accuracy: 0.6952 - val_loss: nan - val_categorical_accuracy: 0.6250\n",
      "Epoch 38/50\n",
      " - 0s - loss: nan - categorical_accuracy: 0.6952 - val_loss: nan - val_categorical_accuracy: 0.6250\n",
      "Epoch 39/50\n",
      " - 0s - loss: nan - categorical_accuracy: 0.6952 - val_loss: nan - val_categorical_accuracy: 0.6250\n",
      "Epoch 40/50\n",
      " - 0s - loss: nan - categorical_accuracy: 0.6952 - val_loss: nan - val_categorical_accuracy: 0.6250\n",
      "Epoch 41/50\n",
      " - 0s - loss: nan - categorical_accuracy: 0.6952 - val_loss: nan - val_categorical_accuracy: 0.6250\n",
      "Epoch 42/50\n",
      " - 0s - loss: nan - categorical_accuracy: 0.6952 - val_loss: nan - val_categorical_accuracy: 0.6250\n",
      "Epoch 43/50\n",
      " - 0s - loss: nan - categorical_accuracy: 0.6952 - val_loss: nan - val_categorical_accuracy: 0.6250\n",
      "Epoch 44/50\n",
      " - 0s - loss: nan - categorical_accuracy: 0.6952 - val_loss: nan - val_categorical_accuracy: 0.6250\n",
      "Epoch 45/50\n",
      " - 0s - loss: nan - categorical_accuracy: 0.6952 - val_loss: nan - val_categorical_accuracy: 0.6250\n",
      "Epoch 46/50\n",
      " - 0s - loss: nan - categorical_accuracy: 0.6952 - val_loss: nan - val_categorical_accuracy: 0.6250\n",
      "Epoch 47/50\n",
      " - 0s - loss: nan - categorical_accuracy: 0.6952 - val_loss: nan - val_categorical_accuracy: 0.6250\n",
      "Epoch 48/50\n",
      " - 0s - loss: nan - categorical_accuracy: 0.6952 - val_loss: nan - val_categorical_accuracy: 0.6250\n",
      "Epoch 49/50\n",
      " - 0s - loss: nan - categorical_accuracy: 0.6952 - val_loss: nan - val_categorical_accuracy: 0.6250\n",
      "Epoch 50/50\n",
      " - 0s - loss: nan - categorical_accuracy: 0.6952 - val_loss: nan - val_categorical_accuracy: 0.6250\n",
      "80/80 [==============================] - 0s 338us/step\n",
      "test loss:  nan test accuracy:  0.675\n"
     ]
    }
   ],
   "source": [
    "#create the model\n",
    "\n",
    "# the network as a sequence of layers\n",
    "network3 = models.Sequential()\n",
    "\n",
    "# Dense layers: fully connected layers\n",
    "network3.add(layers.Dense(200, activation='relu', input_dim=(6))) \n",
    "network3.add(layers.Dropout(0.1))\n",
    "network3.add(layers.Dense(90, activation='relu'))\n",
    "network3.add(layers.Dropout(0.1))\n",
    "network3.add(layers.Dense(30, activation='relu'))\n",
    "network3.add(layers.Dropout(0.1))\n",
    "network3.add(layers.Dense(2, activation='relu'))\n",
    "\n",
    "early_stop = callbacks.EarlyStopping(monitor='val_loss',patience=5)\n",
    "\n",
    "network3.compile(optimizer='sgd', loss='categorical_crossentropy', metrics=['categorical_accuracy'])\n",
    "\n",
    "network3.summary()\n",
    "\n",
    "#validation_split=0.2,\n",
    "history = network3.fit(student_train_data ,student_train_labels, validation_split=0.15, epochs=50, verbose=2)\n",
    "\n",
    "test_loss, test_acc = network3.evaluate(student_test_data, student_test_labels)\n",
    "\n",
    "print(\"test loss: \", test_loss, \"test accuracy: \", test_acc)"
   ]
  },
  {
   "cell_type": "markdown",
   "metadata": {},
   "source": [
    "#### TO DO: Preprocess the data\n",
    "\n",
    "1. Normalize the input data set\n",
    "2. Perform one hot encoding\n",
    "3. Create a train, test, and validation set"
   ]
  },
  {
   "cell_type": "markdown",
   "metadata": {},
   "source": [
    "#### TO DO: Define and train a network, then plot the accuracy of the training, validation, and testing\n",
    "\n",
    "1. Use a validation set\n",
    "2. Propose and train a network\n",
    "3. Print the history of the training\n",
    "4. Evaluate with a test set"
   ]
  }
 ],
 "metadata": {
  "kernelspec": {
   "display_name": "Python 3",
   "language": "python",
   "name": "python3"
  },
  "language_info": {
   "codemirror_mode": {
    "name": "ipython",
    "version": 3
   },
   "file_extension": ".py",
   "mimetype": "text/x-python",
   "name": "python",
   "nbconvert_exporter": "python",
   "pygments_lexer": "ipython3",
   "version": "3.6.8"
  }
 },
 "nbformat": 4,
 "nbformat_minor": 2
}
